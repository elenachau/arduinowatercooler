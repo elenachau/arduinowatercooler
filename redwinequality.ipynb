{
  "nbformat": 4,
  "nbformat_minor": 0,
  "metadata": {
    "colab": {
      "private_outputs": true,
      "provenance": [],
      "include_colab_link": true
    },
    "kernelspec": {
      "name": "python3",
      "display_name": "Python 3"
    },
    "language_info": {
      "name": "python"
    }
  },
  "cells": [
    {
      "cell_type": "markdown",
      "metadata": {
        "id": "view-in-github",
        "colab_type": "text"
      },
      "source": [
        "<a href=\"https://colab.research.google.com/github/elenachau/arduinowatercooler/blob/main/redwinequality.ipynb\" target=\"_parent\"><img src=\"https://colab.research.google.com/assets/colab-badge.svg\" alt=\"Open In Colab\"/></a>"
      ]
    },
    {
      "cell_type": "markdown",
      "source": [
        "## **Predicting Red Wine Quality**\n",
        "\n",
        "### **Problem Statement:**\n",
        "\n",
        "The dataset contains various chemical attributes of red wines, such as acidity, alcohol content, and pH, along with a quality rating. Your task is to build a machine learning model to predict the quality of red wines based on their chemical attributes.\n",
        "\n",
        "### **Dataset Description:**\n",
        "\n",
        "The dataset contains the following attributes:\n",
        "\n",
        "* `Fixed Acidity`: The amount of tartaric acid in the wine (g/dm³).\n",
        "* `Volatile Acidity`: The amount of acetic acid in the wine (g/dm³).\n",
        "* `Citric Acid`: The amount of citric acid in the wine (g/dm³).\n",
        "* `Residual Sugar`: The amount of residual sugar in the wine (g/dm³).\n",
        "* `Chlorides`: The amount of chlorides in the wine (g/dm³).\n",
        "* `Free Sulfur Dioxide`: The amount of free sulfur dioxide (mg/dm³).\n",
        "* `Total Sulfur Dioxide`: The total amount of sulfur dioxide (mg/dm³).\n",
        "* `Density`: The density of the wine (g/cm³).\n",
        "* `pH`: The pH of the wine.\n",
        "* `Sulphates`: The amount of sulphates in the wine (g/dm³).\n",
        "* `Alcohol`: The alcohol content of the wine (%).\n",
        "* `Quality`: The quality rating of the wine (on a scale from 3 to 8, with higher values indicating better quality).\n",
        "\n",
        "### **Expectations:**\n",
        "\n",
        "- Data preprocessing steps.\n",
        "- EDA findings, including visualizations.\n",
        "- Data splitting\n",
        "- Model selection, training, and evaluation details.\n",
        "- Model performance metrics and insights.\n",
        "- Conclusion and recommendations.\n",
        "\n"
      ],
      "metadata": {
        "id": "gLKUdXSOSeXp"
      }
    },
    {
      "cell_type": "markdown",
      "source": [
        "#### **Data Download**"
      ],
      "metadata": {
        "id": "0ktu5wy93c7W"
      }
    },
    {
      "cell_type": "code",
      "execution_count": null,
      "metadata": {
        "id": "NTTK13c0SWqk"
      },
      "outputs": [],
      "source": [
        "!wget https://raw.githubusercontent.com/aniruddhachoudhury/Red-Wine-Quality/master/winequality-red.csv"
      ]
    },
    {
      "cell_type": "markdown",
      "source": [
        "#### **Data preprocessing steps**"
      ],
      "metadata": {
        "id": "k13c7Kp82xHJ"
      }
    },
    {
      "cell_type": "code",
      "source": [
        "import pandas as pd\n",
        "import matplotlib.pyplot as plt\n",
        "import numpy\n",
        "from math import sqrt\n",
        "import seaborn as sns"
      ],
      "metadata": {
        "id": "D0yObj13TFm6"
      },
      "execution_count": null,
      "outputs": []
    },
    {
      "cell_type": "code",
      "source": [
        "df = pd.read_csv('winequality-red.csv')"
      ],
      "metadata": {
        "id": "SY_mUKJDDJPH"
      },
      "execution_count": null,
      "outputs": []
    },
    {
      "cell_type": "code",
      "source": [
        "df.head()"
      ],
      "metadata": {
        "id": "ipOvElmYDSZ5"
      },
      "execution_count": null,
      "outputs": []
    },
    {
      "cell_type": "code",
      "source": [
        "df.info() #check for null values"
      ],
      "metadata": {
        "id": "FzdFUySwDhZ_"
      },
      "execution_count": null,
      "outputs": []
    },
    {
      "cell_type": "code",
      "source": [
        "df.describe() #check for data deviation"
      ],
      "metadata": {
        "id": "BPJTz_dzDTmK"
      },
      "execution_count": null,
      "outputs": []
    },
    {
      "cell_type": "code",
      "source": [
        "df.drop_duplicates(subset=None, inplace=True)\n",
        "df"
      ],
      "metadata": {
        "id": "Qz-4l7BMDVo3"
      },
      "execution_count": null,
      "outputs": []
    },
    {
      "cell_type": "markdown",
      "source": [
        "#### **EDA findings, including visualizations**"
      ],
      "metadata": {
        "id": "LDRGaags2zI2"
      }
    },
    {
      "cell_type": "code",
      "source": [
        "#categorical data\n",
        "sns.pairplot(df, hue='quality', palette='Set2')\n",
        "plt.show()"
      ],
      "metadata": {
        "id": "NoUdrZeW22pC"
      },
      "execution_count": null,
      "outputs": []
    },
    {
      "cell_type": "code",
      "source": [
        "#correlation matrix and heatmap\n",
        "correlation_matrix = df.corr()\n",
        "plt.figure(figsize=(12, 8))\n",
        "sns.heatmap(correlation_matrix, annot=True, cmap='coolwarm')\n",
        "plt.show()"
      ],
      "metadata": {
        "id": "gQob1tzWE27v"
      },
      "execution_count": null,
      "outputs": []
    },
    {
      "cell_type": "code",
      "source": [
        "#boxplot for quality vs attributes\n",
        "plt.figure(figsize=(20,20))\n",
        "for i, col in enumerate(df.columns[:-1], 1):\n",
        "  plt.subplot(4, 3, i)\n",
        "  sns.boxplot(x='quality', y=col, data=df, palette='Set3')\n",
        "  plt.title(f'{col} vs quality')"
      ],
      "metadata": {
        "id": "e8_MpDAzFQj1"
      },
      "execution_count": null,
      "outputs": []
    },
    {
      "cell_type": "markdown",
      "source": [
        "#### **Data Splitting**"
      ],
      "metadata": {
        "id": "5DbnydVq23mU"
      }
    },
    {
      "cell_type": "code",
      "source": [
        "from sklearn.model_selection import train_test_split\n",
        "\n",
        "features = df.drop(['quality'], axis=1)\n",
        "target = df['quality']\n",
        "x_train, x_test, y_train, y_test = train_test_split(features, target, test_size=0.25, random_state=42)"
      ],
      "metadata": {
        "id": "H38RqfFw26gt"
      },
      "execution_count": null,
      "outputs": []
    },
    {
      "cell_type": "markdown",
      "source": [
        "#### **Model selection, training, and evaluation details**"
      ],
      "metadata": {
        "id": "__9z1acD27Ng"
      }
    },
    {
      "cell_type": "code",
      "source": [
        "from sklearn.linear_model import LinearRegression\n",
        "\n",
        "lr = LinearRegression()\n",
        "lr.fit(x_train, y_train)\n",
        "\n",
        "y_train_pred = lr.predict(x_train)\n",
        "y_test_pred = lr.predict(x_test)"
      ],
      "metadata": {
        "id": "jU3HFB8n2_YK"
      },
      "execution_count": null,
      "outputs": []
    },
    {
      "cell_type": "code",
      "source": [
        "data = pd.concat([pd.DataFrame(y_test.values), pd.DataFrame(y_test_pred)], axis=1)\n",
        "data.columns = ['actuals', 'predicted']\n",
        "data['predicted'] = data['predicted'].apply(lambda x: round(x))\n",
        "data"
      ],
      "metadata": {
        "id": "exyieELhHYhc"
      },
      "execution_count": null,
      "outputs": []
    },
    {
      "cell_type": "markdown",
      "source": [
        "#### **Model performance metrics and insights**"
      ],
      "metadata": {
        "id": "1EiHCpB63BCs"
      }
    },
    {
      "cell_type": "code",
      "source": [
        "from sklearn.metrics import mean_squared_error as mse\n",
        "from sklearn.metrics import mean_absolute_percentage_error as mape\n",
        "\n",
        "print(f\"Train error: {round(sqrt(mse(y_train, y_train_pred)), 3)}\")\n",
        "print(f\"Test error: {round(sqrt(mse(y_test, y_test_pred)), 3)}\")"
      ],
      "metadata": {
        "id": "4BKpcrdL3FpM"
      },
      "execution_count": null,
      "outputs": []
    },
    {
      "cell_type": "code",
      "source": [
        "plt.figure(figsize=(12, 10))\n",
        "sns.histplot(y_test - y_test_pred, kde=1, bins=30)\n",
        "plt.show()"
      ],
      "metadata": {
        "id": "xFud3v79IrAT"
      },
      "execution_count": null,
      "outputs": []
    },
    {
      "cell_type": "code",
      "source": [
        "print(f\"Train MAPE: {round(mape(y_train, y_train_pred), 3)*100}\")\n",
        "print(f\"Test MAPE: {round(mape(y_test, y_test_pred), 3)*100}\")"
      ],
      "metadata": {
        "id": "5cAIgBOgKGRc"
      },
      "execution_count": null,
      "outputs": []
    },
    {
      "cell_type": "code",
      "source": [
        "from sklearn.metrics import r2_score\n",
        "\n",
        "print(f\"Train r2_score: {round(r2_score(y_train, y_train_pred), 3)}\")\n",
        "print(f\"Test r2_score: {round(r2_score(y_test, y_test_pred), 3)}\")"
      ],
      "metadata": {
        "id": "kzgK7iMgKi-9"
      },
      "execution_count": null,
      "outputs": []
    }
  ]
}